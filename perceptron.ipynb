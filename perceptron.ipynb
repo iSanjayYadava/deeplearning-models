{
  "nbformat": 4,
  "nbformat_minor": 0,
  "metadata": {
    "colab": {
      "name": "perceptron.ipynb",
      "version": "0.3.2",
      "provenance": [],
      "collapsed_sections": [],
      "include_colab_link": true
    },
    "kernelspec": {
      "name": "python3",
      "display_name": "Python 3"
    }
  },
  "cells": [
    {
      "cell_type": "markdown",
      "metadata": {
        "id": "view-in-github",
        "colab_type": "text"
      },
      "source": [
        "<a href=\"https://colab.research.google.com/github/iSanjayYadava/deeplearning-models/blob/master/perceptron.ipynb\" target=\"_parent\"><img src=\"https://colab.research.google.com/assets/colab-badge.svg\" alt=\"Open In Colab\"/></a>"
      ]
    },
    {
      "cell_type": "code",
      "metadata": {
        "id": "AKSbHK_6wlIj",
        "colab_type": "code",
        "colab": {}
      },
      "source": [
        "%matplotlib inline"
      ],
      "execution_count": 0,
      "outputs": []
    },
    {
      "cell_type": "code",
      "metadata": {
        "id": "tCixsMhGw3mM",
        "colab_type": "code",
        "colab": {}
      },
      "source": [
        "import torch\n",
        "import numpy as np"
      ],
      "execution_count": 0,
      "outputs": []
    },
    {
      "cell_type": "code",
      "metadata": {
        "id": "_72d-S4XxfNO",
        "colab_type": "code",
        "colab": {
          "base_uri": "https://localhost:8080/",
          "height": 35
        },
        "outputId": "9e0a6fac-9541-4a44-d75c-5198f29c7b80"
      },
      "source": [
        "device = (\"cuda:0\" if torch.cuda.is_available() else \"cpu\")\n",
        "print(device)"
      ],
      "execution_count": 3,
      "outputs": [
        {
          "output_type": "stream",
          "text": [
            "cpu\n"
          ],
          "name": "stdout"
        }
      ]
    },
    {
      "cell_type": "code",
      "metadata": {
        "id": "RctyQYFlx10S",
        "colab_type": "code",
        "colab": {
          "base_uri": "https://localhost:8080/",
          "height": 129
        },
        "outputId": "8d22d179-bff9-4f1f-865a-965a04122757"
      },
      "source": [
        "from google.colab import drive\n",
        "drive.mount('/content/gdrive')"
      ],
      "execution_count": 4,
      "outputs": [
        {
          "output_type": "stream",
          "text": [
            "Go to this URL in a browser: https://accounts.google.com/o/oauth2/auth?client_id=947318989803-6bn6qk8qdgf4n4g3pfee6491hc0brc4i.apps.googleusercontent.com&redirect_uri=urn%3Aietf%3Awg%3Aoauth%3A2.0%3Aoob&scope=email%20https%3A%2F%2Fwww.googleapis.com%2Fauth%2Fdocs.test%20https%3A%2F%2Fwww.googleapis.com%2Fauth%2Fdrive%20https%3A%2F%2Fwww.googleapis.com%2Fauth%2Fdrive.photos.readonly%20https%3A%2F%2Fwww.googleapis.com%2Fauth%2Fpeopleapi.readonly&response_type=code\n",
            "\n",
            "Enter your authorization code:\n",
            "··········\n",
            "Mounted at /content/gdrive\n"
          ],
          "name": "stdout"
        }
      ]
    },
    {
      "cell_type": "code",
      "metadata": {
        "id": "JOq_6dS3zHUc",
        "colab_type": "code",
        "colab": {}
      },
      "source": [
        "#from pathlib import Path\n",
        "#DATA_PATH = Path('/content/gdrive/My\\ Drive/data/perceptron_toydata.txt')\n"
      ],
      "execution_count": 0,
      "outputs": []
    },
    {
      "cell_type": "code",
      "metadata": {
        "id": "xQHF9uGy0l8t",
        "colab_type": "code",
        "colab": {
          "base_uri": "https://localhost:8080/",
          "height": 72
        },
        "outputId": "448451e2-9d02-437f-9e68-8df5e5a7f1f0"
      },
      "source": [
        "data = np.genfromtxt('/content/gdrive/My Drive/data/perceptron_toydata.txt', delimiter='\\t')\n",
        "X , y = data[:,:2] , data[:,2]\n",
        "y = y.astype(int)\n",
        "print(\"X.shape\",X.shape)\n",
        "print('y.shape',y.shape)\n",
        "print('Label count',np.bincount(y))"
      ],
      "execution_count": 44,
      "outputs": [
        {
          "output_type": "stream",
          "text": [
            "X.shape (100, 2)\n",
            "y.shape (100,)\n",
            "Label count [50 50]\n"
          ],
          "name": "stdout"
        }
      ]
    },
    {
      "cell_type": "code",
      "metadata": {
        "id": "hw8twdjl8Mf3",
        "colab_type": "code",
        "colab": {}
      },
      "source": [
        "# Shuffling & train/test split\n",
        "shuffle_idx = np.arange(y[0])\n",
        "shuffle_rnd = np.random.RandomState(123)\n",
        "shuffle_rnd.shuffle(shuffle_idx)\n",
        "\n",
        "X_train,X_test = X[shuffle_idx[:70]], X[shuffle_idx[70:]]\n",
        "y_train,y_test = y[shuffle_idx[:70]], X[shuffle_idx[70:]]"
      ],
      "execution_count": 0,
      "outputs": []
    },
    {
      "cell_type": "code",
      "metadata": {
        "id": "xm4ORD4fBjks",
        "colab_type": "code",
        "colab": {}
      },
      "source": [
        "class perceptron():\n",
        "  \n",
        "  def __init__(self,num_features):\n",
        "    self.num_features = num_features\n",
        "    self.weights = torch.zero(num_features,1,dtype=np.float32,device=device)\n",
        "    self.bias = torch.zero(1,dtype=np.float32,device= device)\n",
        "    \n",
        "  def forward(self,x):\n",
        "    \n",
        "    "
      ],
      "execution_count": 0,
      "outputs": []
    }
  ]
}